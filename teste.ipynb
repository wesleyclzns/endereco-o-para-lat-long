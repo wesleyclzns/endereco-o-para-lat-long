{
 "cells": [
  {
   "cell_type": "code",
   "execution_count": 3,
   "metadata": {},
   "outputs": [
    {
     "name": "stdout",
     "output_type": "stream",
     "text": [
      "Collecting pycep_correios\n",
      "  Downloading pycep_correios-5.0.0-py2.py3-none-any.whl (7.1 kB)\n",
      "Collecting zeep>=2.0.0\n",
      "  Downloading zeep-4.1.0-py2.py3-none-any.whl (100 kB)\n",
      "Requirement already satisfied: requests>=2.7.0 in c:\\users\\wesley.calazans\\anaconda3\\envs\\sandbox\\lib\\site-packages (from pycep_correios) (2.26.0)\n",
      "Requirement already satisfied: urllib3<1.27,>=1.21.1 in c:\\users\\wesley.calazans\\anaconda3\\envs\\sandbox\\lib\\site-packages (from requests>=2.7.0->pycep_correios) (1.26.7)\n",
      "Requirement already satisfied: certifi>=2017.4.17 in c:\\users\\wesley.calazans\\anaconda3\\envs\\sandbox\\lib\\site-packages (from requests>=2.7.0->pycep_correios) (2021.10.8)\n",
      "Requirement already satisfied: charset-normalizer~=2.0.0 in c:\\users\\wesley.calazans\\anaconda3\\envs\\sandbox\\lib\\site-packages (from requests>=2.7.0->pycep_correios) (2.0.7)\n",
      "Requirement already satisfied: idna<4,>=2.5 in c:\\users\\wesley.calazans\\anaconda3\\envs\\sandbox\\lib\\site-packages (from requests>=2.7.0->pycep_correios) (3.3)\n",
      "Collecting isodate>=0.5.4\n",
      "  Downloading isodate-0.6.0-py2.py3-none-any.whl (45 kB)\n",
      "Requirement already satisfied: attrs>=17.2.0 in c:\\users\\wesley.calazans\\anaconda3\\envs\\sandbox\\lib\\site-packages (from zeep>=2.0.0->pycep_correios) (21.2.0)\n",
      "Collecting requests-toolbelt>=0.7.1\n",
      "  Downloading requests_toolbelt-0.9.1-py2.py3-none-any.whl (54 kB)\n",
      "Requirement already satisfied: pytz in c:\\users\\wesley.calazans\\anaconda3\\envs\\sandbox\\lib\\site-packages (from zeep>=2.0.0->pycep_correios) (2021.3)\n",
      "Collecting requests-file>=1.5.1\n",
      "  Downloading requests_file-1.5.1-py2.py3-none-any.whl (3.7 kB)\n",
      "Requirement already satisfied: lxml>=4.6.0 in c:\\users\\wesley.calazans\\anaconda3\\envs\\sandbox\\lib\\site-packages (from zeep>=2.0.0->pycep_correios) (4.6.3)\n",
      "Collecting platformdirs>=1.4.0\n",
      "  Downloading platformdirs-2.4.0-py3-none-any.whl (14 kB)\n",
      "Collecting cached-property>=1.3.0\n",
      "  Downloading cached_property-1.5.2-py2.py3-none-any.whl (7.6 kB)\n",
      "Requirement already satisfied: six in c:\\users\\wesley.calazans\\anaconda3\\envs\\sandbox\\lib\\site-packages (from isodate>=0.5.4->zeep>=2.0.0->pycep_correios) (1.16.0)\n",
      "Installing collected packages: requests-toolbelt, requests-file, platformdirs, isodate, cached-property, zeep, pycep-correios\n",
      "Successfully installed cached-property-1.5.2 isodate-0.6.0 platformdirs-2.4.0 pycep-correios-5.0.0 requests-file-1.5.1 requests-toolbelt-0.9.1 zeep-4.1.0\n"
     ]
    }
   ],
   "source": [
    "!pip install pycep_correios\n"
   ]
  },
  {
   "cell_type": "code",
   "execution_count": 4,
   "metadata": {},
   "outputs": [],
   "source": [
    "import pandas as pd\n",
    "import pycep_correios\n",
    "from geopy.geocoders import Nominatim\n",
    "from geopy.extra.rate_limiter import RateLimiter\n"
   ]
  },
  {
   "cell_type": "code",
   "execution_count": 5,
   "metadata": {},
   "outputs": [],
   "source": [
    "# Função para transformar o CEP em um endereço \n",
    "def get_address(cep):\n",
    "    endereco = pycep_correios.get_address_from_cep(cep)\n",
    "    return endereco['logradouro'] + \", \" + endereco['bairro'] + \", \" + endereco['cidade'] + \" - \" + endereco['uf']\n",
    "\n"
   ]
  },
  {
   "cell_type": "code",
   "execution_count": 18,
   "metadata": {},
   "outputs": [],
   "source": [
    "# DataFrame de teste\n",
    "df = pd.DataFrame({'CEP': ['09330750', '01032030', '01310300','60060390', '70160900', '69095000']})\n",
    "\n"
   ]
  },
  {
   "cell_type": "code",
   "execution_count": 7,
   "metadata": {},
   "outputs": [],
   "source": [
    "# Troque test_app pelo nome da sua aplicação/sistema\n",
    "geolocator = Nominatim(user_agent=\"test_app\")\n",
    "geocode = RateLimiter(geolocator.geocode, min_delay_seconds=1)\n",
    "\n"
   ]
  },
  {
   "cell_type": "code",
   "execution_count": 19,
   "metadata": {},
   "outputs": [
    {
     "data": {
      "text/html": [
       "<div>\n",
       "<style scoped>\n",
       "    .dataframe tbody tr th:only-of-type {\n",
       "        vertical-align: middle;\n",
       "    }\n",
       "\n",
       "    .dataframe tbody tr th {\n",
       "        vertical-align: top;\n",
       "    }\n",
       "\n",
       "    .dataframe thead th {\n",
       "        text-align: right;\n",
       "    }\n",
       "</style>\n",
       "<table border=\"1\" class=\"dataframe\">\n",
       "  <thead>\n",
       "    <tr style=\"text-align: right;\">\n",
       "      <th></th>\n",
       "      <th>CEP</th>\n",
       "      <th>address</th>\n",
       "    </tr>\n",
       "  </thead>\n",
       "  <tbody>\n",
       "    <tr>\n",
       "      <th>0</th>\n",
       "      <td>09330750</td>\n",
       "      <td>Rua Gregório Matos, Vila Feital, Mauá - SP</td>\n",
       "    </tr>\n",
       "    <tr>\n",
       "      <th>1</th>\n",
       "      <td>01032030</td>\n",
       "      <td>Praça Pedro Lessa, Centro, São Paulo - SP</td>\n",
       "    </tr>\n",
       "    <tr>\n",
       "      <th>2</th>\n",
       "      <td>01310300</td>\n",
       "      <td>Avenida Paulista - de 2134 ao fim - lado par, ...</td>\n",
       "    </tr>\n",
       "    <tr>\n",
       "      <th>3</th>\n",
       "      <td>60060390</td>\n",
       "      <td>Rua Dragão do Mar - de 196/197 ao fim, Praia d...</td>\n",
       "    </tr>\n",
       "    <tr>\n",
       "      <th>4</th>\n",
       "      <td>70160900</td>\n",
       "      <td>Praça dos Três Poderes, Zona Cívico-Administra...</td>\n",
       "    </tr>\n",
       "    <tr>\n",
       "      <th>5</th>\n",
       "      <td>69095000</td>\n",
       "      <td>Avenida Noel Nutels - de 851/852 a 2399/2400, ...</td>\n",
       "    </tr>\n",
       "  </tbody>\n",
       "</table>\n",
       "</div>"
      ],
      "text/plain": [
       "        CEP                                            address\n",
       "0  09330750         Rua Gregório Matos, Vila Feital, Mauá - SP\n",
       "1  01032030          Praça Pedro Lessa, Centro, São Paulo - SP\n",
       "2  01310300  Avenida Paulista - de 2134 ao fim - lado par, ...\n",
       "3  60060390  Rua Dragão do Mar - de 196/197 ao fim, Praia d...\n",
       "4  70160900  Praça dos Três Poderes, Zona Cívico-Administra...\n",
       "5  69095000  Avenida Noel Nutels - de 851/852 a 2399/2400, ..."
      ]
     },
     "execution_count": 19,
     "metadata": {},
     "output_type": "execute_result"
    }
   ],
   "source": [
    "# Cria a coluna address com os endereços retornados a partir do CEP\n",
    "df['address'] = df['CEP'].apply(get_address)\n",
    "df\n"
   ]
  },
  {
   "cell_type": "code",
   "execution_count": 20,
   "metadata": {},
   "outputs": [
    {
     "data": {
      "text/html": [
       "<div>\n",
       "<style scoped>\n",
       "    .dataframe tbody tr th:only-of-type {\n",
       "        vertical-align: middle;\n",
       "    }\n",
       "\n",
       "    .dataframe tbody tr th {\n",
       "        vertical-align: top;\n",
       "    }\n",
       "\n",
       "    .dataframe thead th {\n",
       "        text-align: right;\n",
       "    }\n",
       "</style>\n",
       "<table border=\"1\" class=\"dataframe\">\n",
       "  <thead>\n",
       "    <tr style=\"text-align: right;\">\n",
       "      <th></th>\n",
       "      <th>CEP</th>\n",
       "      <th>address</th>\n",
       "      <th>location</th>\n",
       "    </tr>\n",
       "  </thead>\n",
       "  <tbody>\n",
       "    <tr>\n",
       "      <th>0</th>\n",
       "      <td>09330750</td>\n",
       "      <td>Rua Gregório Matos, Vila Feital, Mauá - SP</td>\n",
       "      <td>None</td>\n",
       "    </tr>\n",
       "    <tr>\n",
       "      <th>1</th>\n",
       "      <td>01032030</td>\n",
       "      <td>Praça Pedro Lessa, Centro, São Paulo - SP</td>\n",
       "      <td>None</td>\n",
       "    </tr>\n",
       "    <tr>\n",
       "      <th>2</th>\n",
       "      <td>01310300</td>\n",
       "      <td>Avenida Paulista - de 2134 ao fim - lado par, ...</td>\n",
       "      <td>None</td>\n",
       "    </tr>\n",
       "    <tr>\n",
       "      <th>3</th>\n",
       "      <td>60060390</td>\n",
       "      <td>Rua Dragão do Mar - de 196/197 ao fim, Praia d...</td>\n",
       "      <td>None</td>\n",
       "    </tr>\n",
       "    <tr>\n",
       "      <th>4</th>\n",
       "      <td>70160900</td>\n",
       "      <td>Praça dos Três Poderes, Zona Cívico-Administra...</td>\n",
       "      <td>None</td>\n",
       "    </tr>\n",
       "    <tr>\n",
       "      <th>5</th>\n",
       "      <td>69095000</td>\n",
       "      <td>Avenida Noel Nutels - de 851/852 a 2399/2400, ...</td>\n",
       "      <td>None</td>\n",
       "    </tr>\n",
       "  </tbody>\n",
       "</table>\n",
       "</div>"
      ],
      "text/plain": [
       "        CEP                                            address location\n",
       "0  09330750         Rua Gregório Matos, Vila Feital, Mauá - SP     None\n",
       "1  01032030          Praça Pedro Lessa, Centro, São Paulo - SP     None\n",
       "2  01310300  Avenida Paulista - de 2134 ao fim - lado par, ...     None\n",
       "3  60060390  Rua Dragão do Mar - de 196/197 ao fim, Praia d...     None\n",
       "4  70160900  Praça dos Três Poderes, Zona Cívico-Administra...     None\n",
       "5  69095000  Avenida Noel Nutels - de 851/852 a 2399/2400, ...     None"
      ]
     },
     "execution_count": 20,
     "metadata": {},
     "output_type": "execute_result"
    }
   ],
   "source": [
    "# Cria a coluna location com o local retornado a partir do endereço\n",
    "df['location'] = df['address'].apply(geocode)\n",
    "df\n"
   ]
  },
  {
   "cell_type": "code",
   "execution_count": 21,
   "metadata": {},
   "outputs": [
    {
     "data": {
      "text/html": [
       "<div>\n",
       "<style scoped>\n",
       "    .dataframe tbody tr th:only-of-type {\n",
       "        vertical-align: middle;\n",
       "    }\n",
       "\n",
       "    .dataframe tbody tr th {\n",
       "        vertical-align: top;\n",
       "    }\n",
       "\n",
       "    .dataframe thead th {\n",
       "        text-align: right;\n",
       "    }\n",
       "</style>\n",
       "<table border=\"1\" class=\"dataframe\">\n",
       "  <thead>\n",
       "    <tr style=\"text-align: right;\">\n",
       "      <th></th>\n",
       "      <th>CEP</th>\n",
       "      <th>address</th>\n",
       "      <th>location</th>\n",
       "      <th>point</th>\n",
       "    </tr>\n",
       "  </thead>\n",
       "  <tbody>\n",
       "    <tr>\n",
       "      <th>0</th>\n",
       "      <td>09330750</td>\n",
       "      <td>Rua Gregório Matos, Vila Feital, Mauá - SP</td>\n",
       "      <td>None</td>\n",
       "      <td>None</td>\n",
       "    </tr>\n",
       "    <tr>\n",
       "      <th>1</th>\n",
       "      <td>01032030</td>\n",
       "      <td>Praça Pedro Lessa, Centro, São Paulo - SP</td>\n",
       "      <td>None</td>\n",
       "      <td>None</td>\n",
       "    </tr>\n",
       "    <tr>\n",
       "      <th>2</th>\n",
       "      <td>01310300</td>\n",
       "      <td>Avenida Paulista - de 2134 ao fim - lado par, ...</td>\n",
       "      <td>None</td>\n",
       "      <td>None</td>\n",
       "    </tr>\n",
       "    <tr>\n",
       "      <th>3</th>\n",
       "      <td>60060390</td>\n",
       "      <td>Rua Dragão do Mar - de 196/197 ao fim, Praia d...</td>\n",
       "      <td>None</td>\n",
       "      <td>None</td>\n",
       "    </tr>\n",
       "    <tr>\n",
       "      <th>4</th>\n",
       "      <td>70160900</td>\n",
       "      <td>Praça dos Três Poderes, Zona Cívico-Administra...</td>\n",
       "      <td>None</td>\n",
       "      <td>None</td>\n",
       "    </tr>\n",
       "    <tr>\n",
       "      <th>5</th>\n",
       "      <td>69095000</td>\n",
       "      <td>Avenida Noel Nutels - de 851/852 a 2399/2400, ...</td>\n",
       "      <td>None</td>\n",
       "      <td>None</td>\n",
       "    </tr>\n",
       "  </tbody>\n",
       "</table>\n",
       "</div>"
      ],
      "text/plain": [
       "        CEP                                            address location point\n",
       "0  09330750         Rua Gregório Matos, Vila Feital, Mauá - SP     None  None\n",
       "1  01032030          Praça Pedro Lessa, Centro, São Paulo - SP     None  None\n",
       "2  01310300  Avenida Paulista - de 2134 ao fim - lado par, ...     None  None\n",
       "3  60060390  Rua Dragão do Mar - de 196/197 ao fim, Praia d...     None  None\n",
       "4  70160900  Praça dos Três Poderes, Zona Cívico-Administra...     None  None\n",
       "5  69095000  Avenida Noel Nutels - de 851/852 a 2399/2400, ...     None  None"
      ]
     },
     "execution_count": 21,
     "metadata": {},
     "output_type": "execute_result"
    }
   ],
   "source": [
    "# Seleciona a latitude e longitude que está dentro do local\n",
    "df['point'] = df['location'].apply(lambda loc: tuple(loc.point) if loc else None)\n",
    "df"
   ]
  }
 ],
 "metadata": {
  "interpreter": {
   "hash": "b02bdeebf45ef14b0fffd6e126c3fe9d174b77ee8bcc77cc598fdd02645c641e"
  },
  "kernelspec": {
   "display_name": "Python 3.8.12 64-bit ('sandbox': conda)",
   "language": "python",
   "name": "python3"
  },
  "language_info": {
   "codemirror_mode": {
    "name": "ipython",
    "version": 3
   },
   "file_extension": ".py",
   "mimetype": "text/x-python",
   "name": "python",
   "nbconvert_exporter": "python",
   "pygments_lexer": "ipython3",
   "version": "3.8.12"
  },
  "orig_nbformat": 4
 },
 "nbformat": 4,
 "nbformat_minor": 2
}
