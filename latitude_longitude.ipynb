{
 "cells": [
  {
   "cell_type": "code",
   "execution_count": 99,
   "metadata": {},
   "outputs": [],
   "source": [
    "import pandas as pd\n",
    "import geopandas as gpd\n",
    "from shapely.geometry import Point\n",
    "from geopandas.tools import geocode\n",
    "import os"
   ]
  },
  {
   "cell_type": "code",
   "execution_count": 100,
   "metadata": {},
   "outputs": [
    {
     "data": {
      "text/plain": [
       "Index(['Nº', 'CLIENTE', 'Nº PROJ', 'ENDEREÇO', 'ESTADO', 'NOME EMPREENDIMENTO',\n",
       "       'ANO APROVAÇÃO', 'ÁREA APROVADA', 'PLACAS', 'ANO LANÇAMENTO', 'TIPO'],\n",
       "      dtype='object')"
      ]
     },
     "execution_count": 100,
     "metadata": {},
     "output_type": "execute_result"
    }
   ],
   "source": [
    "#IMPORTANDO CSV COM OS DADOS DOS PROJETOS LANÇADOS DE 2021\n",
    "# encoding='utf-8'\n",
    "# encoding='latin1'\n",
    "# encoding='utf8'\n",
    "# encoding='iso-8859-1'\n",
    "\n",
    "arquivo = 'projetos-1.csv'\n",
    "relacaoProjetos = pd.read_csv(arquivo, encoding='utf8', delimiter=';')\n",
    "relacaoProjetos.columns"
   ]
  },
  {
   "cell_type": "code",
   "execution_count": 101,
   "metadata": {},
   "outputs": [
    {
     "data": {
      "text/html": [
       "<div>\n",
       "<style scoped>\n",
       "    .dataframe tbody tr th:only-of-type {\n",
       "        vertical-align: middle;\n",
       "    }\n",
       "\n",
       "    .dataframe tbody tr th {\n",
       "        vertical-align: top;\n",
       "    }\n",
       "\n",
       "    .dataframe thead th {\n",
       "        text-align: right;\n",
       "    }\n",
       "</style>\n",
       "<table border=\"1\" class=\"dataframe\">\n",
       "  <thead>\n",
       "    <tr style=\"text-align: right;\">\n",
       "      <th></th>\n",
       "      <th>Nº PROJ</th>\n",
       "      <th>ENDEREÇO</th>\n",
       "      <th>ESTADO</th>\n",
       "    </tr>\n",
       "  </thead>\n",
       "  <tbody>\n",
       "    <tr>\n",
       "      <th>0</th>\n",
       "      <td>18415.0</td>\n",
       "      <td>Rua Jacamar, 94, São Paulo</td>\n",
       "      <td>SP</td>\n",
       "    </tr>\n",
       "    <tr>\n",
       "      <th>1</th>\n",
       "      <td>19139.0</td>\n",
       "      <td>Rua Assungui, 105, São Paulo</td>\n",
       "      <td>SP</td>\n",
       "    </tr>\n",
       "    <tr>\n",
       "      <th>2</th>\n",
       "      <td>19354.0</td>\n",
       "      <td>Avenida Alberto Ramos, 89, São Paulo</td>\n",
       "      <td>SP</td>\n",
       "    </tr>\n",
       "    <tr>\n",
       "      <th>3</th>\n",
       "      <td>19013.0</td>\n",
       "      <td>Avenida do Cursino, 3808, São Paulo</td>\n",
       "      <td>SP</td>\n",
       "    </tr>\n",
       "    <tr>\n",
       "      <th>4</th>\n",
       "      <td>18609.0</td>\n",
       "      <td>Rua Rita Joana de Souza, 18609 , São Paulo</td>\n",
       "      <td>SP</td>\n",
       "    </tr>\n",
       "  </tbody>\n",
       "</table>\n",
       "</div>"
      ],
      "text/plain": [
       "   Nº PROJ                                    ENDEREÇO ESTADO\n",
       "0  18415.0                  Rua Jacamar, 94, São Paulo     SP\n",
       "1  19139.0                Rua Assungui, 105, São Paulo     SP\n",
       "2  19354.0        Avenida Alberto Ramos, 89, São Paulo     SP\n",
       "3  19013.0         Avenida do Cursino, 3808, São Paulo     SP\n",
       "4  18609.0  Rua Rita Joana de Souza, 18609 , São Paulo     SP"
      ]
     },
     "execution_count": 101,
     "metadata": {},
     "output_type": "execute_result"
    }
   ],
   "source": [
    "#Simplifica a tabela com o esencial (Numero de identificação do projeto, Endereço(Logradouro, numero e cidade) e o Estado)\n",
    "projetos = relacaoProjetos[['Nº PROJ','ENDEREÇO', 'ESTADO']]\n",
    "projetos.head(5)"
   ]
  },
  {
   "cell_type": "code",
   "execution_count": 102,
   "metadata": {},
   "outputs": [],
   "source": [
    "#Adiciona a geolocalização (latitude longitude) em formato de ponto a patir do endereço fornecido\n",
    "\n",
    "geo = geocode(projetos['ENDEREÇO'], provider='Nominatim', user_agent='myGeocoder', timeout=1)"
   ]
  },
  {
   "cell_type": "code",
   "execution_count": 103,
   "metadata": {},
   "outputs": [
    {
     "data": {
      "text/plain": [
       "geopandas.geodataframe.GeoDataFrame"
      ]
     },
     "execution_count": 103,
     "metadata": {},
     "output_type": "execute_result"
    }
   ],
   "source": [
    "#Junta a tabela geolocalizada a tabela com a relação de projetos e outras informações\n",
    "juntar = geo.join(relacaoProjetos)\n",
    "juntar.head\n",
    "type(juntar)"
   ]
  },
  {
   "cell_type": "code",
   "execution_count": 104,
   "metadata": {},
   "outputs": [],
   "source": [
    "#Retira dessa tabela a coluna \"Address\" \n",
    "juntar.drop('address', axis=1, inplace=True)\n"
   ]
  },
  {
   "cell_type": "code",
   "execution_count": 105,
   "metadata": {},
   "outputs": [],
   "source": [
    "projetosGeoreferenciados = juntar"
   ]
  },
  {
   "cell_type": "code",
   "execution_count": 106,
   "metadata": {},
   "outputs": [],
   "source": [
    "#Pega o nome do arquivo usado para procurar o endereço\n",
    "nomeArquivo = os.path.splitext(arquivo)\n",
    "nomeArquivo = nomeArquivo[0]\n"
   ]
  },
  {
   "cell_type": "code",
   "execution_count": 107,
   "metadata": {},
   "outputs": [],
   "source": [
    "#Salva o arquivo em formato GeoJSON com o nome do arquivo 'base' (arquivo de entrada + Json)\n",
    "\n",
    "saida = nomeArquivo + '.json'\n",
    "projetosGeoreferenciados.to_file(saida, driver='GeoJSON')"
   ]
  }
 ],
 "metadata": {
  "interpreter": {
   "hash": "98dd5fa9c98a131fa03ea306e1bd89ca787e2f51d7b0b0431bff91b5c36d9ccb"
  },
  "kernelspec": {
   "display_name": "Python 3.9.6 64-bit",
   "language": "python",
   "name": "python3"
  },
  "language_info": {
   "codemirror_mode": {
    "name": "ipython",
    "version": 3
   },
   "file_extension": ".py",
   "mimetype": "text/x-python",
   "name": "python",
   "nbconvert_exporter": "python",
   "pygments_lexer": "ipython3",
   "version": "3.9.7"
  },
  "orig_nbformat": 4
 },
 "nbformat": 4,
 "nbformat_minor": 2
}
